{
  "nbformat": 4,
  "nbformat_minor": 0,
  "metadata": {
    "colab": {
      "name": "model_vgg19.ipynb",
      "provenance": [],
      "include_colab_link": true
    },
    "kernelspec": {
      "name": "python3",
      "display_name": "Python 3"
    },
    "language_info": {
      "name": "python"
    }
  },
  "cells": [
    {
      "cell_type": "markdown",
      "metadata": {
        "id": "view-in-github",
        "colab_type": "text"
      },
      "source": [
        "<a href=\"https://colab.research.google.com/github/anushka012/VGG19_model/blob/main/model_vgg19.ipynb\" target=\"_parent\"><img src=\"https://colab.research.google.com/assets/colab-badge.svg\" alt=\"Open In Colab\"/></a>"
      ]
    },
    {
      "cell_type": "code",
      "metadata": {
        "id": "tPEgG_CHT6x8"
      },
      "source": [
        "from tensorflow.keras.applications import VGG19\n",
        "from keras.applications.vgg16 import preprocess_input as pi"
      ],
      "execution_count": null,
      "outputs": []
    },
    {
      "cell_type": "code",
      "metadata": {
        "id": "hxCzfTLpUHiX"
      },
      "source": [
        "from keras.preprocessing.image import ImageDataGenerator\n",
        "import keras\n",
        "from keras.models import Sequential\n",
        "from keras.layers import Input, Dense\n",
        "from tensorflow.keras.applications import ResNet50\n",
        "from tensorflow.keras.applications.resnet50 import preprocess_input"
      ],
      "execution_count": null,
      "outputs": []
    },
    {
      "cell_type": "code",
      "metadata": {
        "id": "CYiV6uk1UHky"
      },
      "source": [
        "import numpy as np\n",
        "import tensorflow as tf\n",
        "\n",
        "from tensorflow.keras import datasets, layers, models\n",
        "import matplotlib.pyplot as plt\n",
        "from tensorflow.keras.utils import normalize, to_categorical "
      ],
      "execution_count": null,
      "outputs": []
    },
    {
      "cell_type": "code",
      "metadata": {
        "id": "mp_c1rkZUHnE"
      },
      "source": [
        "num_classes = 3\n",
        "image_resize_week4 = 224\n",
        "batch2_size_training = 32\n",
        "batch2_size_validation = 32"
      ],
      "execution_count": null,
      "outputs": []
    },
    {
      "cell_type": "code",
      "metadata": {
        "colab": {
          "base_uri": "https://localhost:8080/"
        },
        "id": "2KPmgeDeUSp5",
        "outputId": "8575cc45-9f5b-431c-e0b1-e5347f65a6fb"
      },
      "source": [
        "from google.colab import drive\n",
        "drive.mount('/content/gdrive')"
      ],
      "execution_count": null,
      "outputs": [
        {
          "output_type": "stream",
          "name": "stdout",
          "text": [
            "Drive already mounted at /content/gdrive; to attempt to forcibly remount, call drive.mount(\"/content/gdrive\", force_remount=True).\n"
          ]
        }
      ]
    },
    {
      "cell_type": "code",
      "metadata": {
        "id": "l7uoxNxXUWl4"
      },
      "source": [
        "X_train = np.load(\"/content/gdrive/MyDrive/covid_research/X_train.npy\").astype(np.uint8)\n",
        "Y_train = np.load(\"/content/gdrive/MyDrive/covid_research/Y_train.npy\").astype(np.uint8)\n",
        "X_test= np.load(\"/content/gdrive/MyDrive/covid_research/X_test.npy\")\n",
        "Y_test = np.load(\"/content/gdrive/MyDrive/covid_research/Y_test.npy\")"
      ],
      "execution_count": null,
      "outputs": []
    },
    {
      "cell_type": "code",
      "metadata": {
        "id": "BrU2PIZIUWoX"
      },
      "source": [
        "Y_train = to_categorical(Y_train)\n",
        "Y_test = to_categorical(Y_test)"
      ],
      "execution_count": null,
      "outputs": []
    },
    {
      "cell_type": "code",
      "metadata": {
        "colab": {
          "base_uri": "https://localhost:8080/"
        },
        "id": "0X6PD0roUWtV",
        "outputId": "cb2a8e33-a55c-4c5f-a7ec-73796ed0fa8b"
      },
      "source": [
        "print(Y_test)"
      ],
      "execution_count": null,
      "outputs": [
        {
          "output_type": "stream",
          "name": "stdout",
          "text": [
            "[[0. 0. 1.]\n",
            " [0. 0. 1.]\n",
            " [0. 0. 1.]\n",
            " ...\n",
            " [0. 0. 1.]\n",
            " [0. 0. 1.]\n",
            " [0. 0. 1.]]\n"
          ]
        }
      ]
    },
    {
      "cell_type": "code",
      "metadata": {
        "id": "R1NqJiz3USsP"
      },
      "source": [
        "model = Sequential()\n",
        "#model = tensorflow.keras.Sequential()"
      ],
      "execution_count": null,
      "outputs": []
    },
    {
      "cell_type": "code",
      "metadata": {
        "colab": {
          "base_uri": "https://localhost:8080/"
        },
        "id": "7GBCTkPhUgq2",
        "outputId": "b7ea1d50-c05b-4752-aa25-5f6dfdf31827"
      },
      "source": [
        "model.add(VGG19(\n",
        "    include_top=False,\n",
        "    pooling='avg',\n",
        "    weights='imagenet',\n",
        "    ))"
      ],
      "execution_count": null,
      "outputs": [
        {
          "output_type": "stream",
          "name": "stdout",
          "text": [
            "Downloading data from https://storage.googleapis.com/tensorflow/keras-applications/vgg19/vgg19_weights_tf_dim_ordering_tf_kernels_notop.h5\n",
            "80142336/80134624 [==============================] - 2s 0us/step\n",
            "80150528/80134624 [==============================] - 2s 0us/step\n"
          ]
        }
      ]
    },
    {
      "cell_type": "code",
      "metadata": {
        "id": "nxHFmrt0Ugvh"
      },
      "source": [
        "model.add(Dense(num_classes, activation='softmax'))"
      ],
      "execution_count": null,
      "outputs": []
    },
    {
      "cell_type": "code",
      "metadata": {
        "colab": {
          "base_uri": "https://localhost:8080/"
        },
        "id": "Xd1Hxt1WUSuc",
        "outputId": "e04da407-912b-42d5-f0ad-d9ebdf234592"
      },
      "source": [
        "model.layers"
      ],
      "execution_count": null,
      "outputs": [
        {
          "output_type": "execute_result",
          "data": {
            "text/plain": [
              "[<keras.engine.functional.Functional at 0x7fc022b3a690>,\n",
              " <keras.layers.core.Dense at 0x7fc022bbdfd0>]"
            ]
          },
          "metadata": {},
          "execution_count": 30
        }
      ]
    },
    {
      "cell_type": "code",
      "metadata": {
        "colab": {
          "base_uri": "https://localhost:8080/"
        },
        "id": "rRsxnB3PUo7P",
        "outputId": "5d3d4a22-5ea6-443c-8030-69d6e76220e1"
      },
      "source": [
        "model.layers[0].layers"
      ],
      "execution_count": null,
      "outputs": [
        {
          "output_type": "execute_result",
          "data": {
            "text/plain": [
              "[<keras.engine.input_layer.InputLayer at 0x7fc022bfee90>,\n",
              " <keras.layers.convolutional.Conv2D at 0x7fc022bfe690>,\n",
              " <keras.layers.convolutional.Conv2D at 0x7fc0259abe10>,\n",
              " <keras.layers.pooling.MaxPooling2D at 0x7fc0251651d0>,\n",
              " <keras.layers.convolutional.Conv2D at 0x7fc023482550>,\n",
              " <keras.layers.convolutional.Conv2D at 0x7fc022bde450>,\n",
              " <keras.layers.pooling.MaxPooling2D at 0x7fc022bf50d0>,\n",
              " <keras.layers.convolutional.Conv2D at 0x7fc0234e5710>,\n",
              " <keras.layers.convolutional.Conv2D at 0x7fc023482b10>,\n",
              " <keras.layers.convolutional.Conv2D at 0x7fc022be41d0>,\n",
              " <keras.layers.convolutional.Conv2D at 0x7fc022be68d0>,\n",
              " <keras.layers.pooling.MaxPooling2D at 0x7fc022bd2610>,\n",
              " <keras.layers.convolutional.Conv2D at 0x7fc022beb550>,\n",
              " <keras.layers.convolutional.Conv2D at 0x7fc022bfed50>,\n",
              " <keras.layers.convolutional.Conv2D at 0x7fc022bedb10>,\n",
              " <keras.layers.convolutional.Conv2D at 0x7fc022bed250>,\n",
              " <keras.layers.pooling.MaxPooling2D at 0x7fc022b1a4d0>,\n",
              " <keras.layers.convolutional.Conv2D at 0x7fc022b13a50>,\n",
              " <keras.layers.convolutional.Conv2D at 0x7fc022bebdd0>,\n",
              " <keras.layers.convolutional.Conv2D at 0x7fc022b25f10>,\n",
              " <keras.layers.convolutional.Conv2D at 0x7fc022b2cfd0>,\n",
              " <keras.layers.pooling.MaxPooling2D at 0x7fc022b21b10>,\n",
              " <keras.layers.pooling.GlobalAveragePooling2D at 0x7fc022b30f50>]"
            ]
          },
          "metadata": {},
          "execution_count": 31
        }
      ]
    },
    {
      "cell_type": "code",
      "metadata": {
        "id": "IgDoswpiUo9w"
      },
      "source": [
        "model.layers[0].trainable = False"
      ],
      "execution_count": null,
      "outputs": []
    },
    {
      "cell_type": "code",
      "metadata": {
        "id": "4-cvdRWMUpAF"
      },
      "source": [
        "model.compile(optimizer='adam', loss='categorical_crossentropy', metrics=['accuracy'])"
      ],
      "execution_count": null,
      "outputs": []
    },
    {
      "cell_type": "code",
      "metadata": {
        "colab": {
          "base_uri": "https://localhost:8080/"
        },
        "id": "uhs11fj6Uy2x",
        "outputId": "e8836750-d029-44d3-ebb7-a42538f7eb57"
      },
      "source": [
        "fit_history = model.fit(X_train, Y_train, epochs=10, \n",
        "                    validation_data=(X_test, Y_test), batch_size=10)"
      ],
      "execution_count": null,
      "outputs": [
        {
          "output_type": "stream",
          "name": "stdout",
          "text": [
            "Epoch 1/10\n",
            "1001/1001 [==============================] - 157s 156ms/step - loss: 0.2152 - accuracy: 0.9901 - val_loss: 0.0000e+00 - val_accuracy: 1.0000\n",
            "Epoch 2/10\n",
            "1001/1001 [==============================] - 156s 156ms/step - loss: 2.2409e-09 - accuracy: 1.0000 - val_loss: 0.0000e+00 - val_accuracy: 1.0000\n",
            "Epoch 3/10\n",
            "1001/1001 [==============================] - 157s 157ms/step - loss: 1.7760e-09 - accuracy: 1.0000 - val_loss: 0.0000e+00 - val_accuracy: 1.0000\n",
            "Epoch 4/10\n",
            "1001/1001 [==============================] - 157s 157ms/step - loss: 1.3350e-09 - accuracy: 1.0000 - val_loss: 0.0000e+00 - val_accuracy: 1.0000\n",
            "Epoch 5/10\n",
            "1001/1001 [==============================] - 157s 157ms/step - loss: 1.0489e-09 - accuracy: 1.0000 - val_loss: 0.0000e+00 - val_accuracy: 1.0000\n",
            "Epoch 6/10\n",
            "1001/1001 [==============================] - 157s 157ms/step - loss: 8.4630e-10 - accuracy: 1.0000 - val_loss: 0.0000e+00 - val_accuracy: 1.0000\n",
            "Epoch 7/10\n",
            "1001/1001 [==============================] - 156s 156ms/step - loss: 6.5558e-10 - accuracy: 1.0000 - val_loss: 0.0000e+00 - val_accuracy: 1.0000\n",
            "Epoch 8/10\n",
            "1001/1001 [==============================] - 157s 157ms/step - loss: 5.4831e-10 - accuracy: 1.0000 - val_loss: 0.0000e+00 - val_accuracy: 1.0000\n",
            "Epoch 9/10\n",
            "1001/1001 [==============================] - 156s 156ms/step - loss: 4.4103e-10 - accuracy: 1.0000 - val_loss: 0.0000e+00 - val_accuracy: 1.0000\n",
            "Epoch 10/10\n",
            "1001/1001 [==============================] - 156s 156ms/step - loss: 3.8143e-10 - accuracy: 1.0000 - val_loss: 0.0000e+00 - val_accuracy: 1.0000\n"
          ]
        }
      ]
    },
    {
      "cell_type": "code",
      "metadata": {
        "id": "OGX8VSshUy5S"
      },
      "source": [
        "model.save('classifier_vgg19_model.h5')"
      ],
      "execution_count": null,
      "outputs": []
    },
    {
      "cell_type": "markdown",
      "metadata": {
        "id": "GqjtXty9WD1N"
      },
      "source": [
        "**Evaluating the model**"
      ]
    },
    {
      "cell_type": "code",
      "metadata": {
        "colab": {
          "base_uri": "https://localhost:8080/"
        },
        "id": "CI7_p6EFWBVh",
        "outputId": "505bdb2f-e0f6-4d20-e59c-24059ea1a62e"
      },
      "source": [
        "train_loss, train_acc = model.evaluate_generator(X_train, steps=16)"
      ],
      "execution_count": null,
      "outputs": [
        {
          "output_type": "stream",
          "name": "stderr",
          "text": [
            "/usr/local/lib/python3.7/dist-packages/keras/engine/training.py:2006: UserWarning: `Model.evaluate_generator` is deprecated and will be removed in a future version. Please use `Model.evaluate`, which supports generators.\n",
            "  warnings.warn('`Model.evaluate_generator` is deprecated and '\n"
          ]
        }
      ]
    },
    {
      "cell_type": "code",
      "metadata": {
        "colab": {
          "base_uri": "https://localhost:8080/"
        },
        "id": "m7gz73LtWBYF",
        "outputId": "2457cf5f-aba0-46fd-aaad-33fb399487d8"
      },
      "source": [
        "test_loss, test_acc = model.evaluate(X_test, steps=16)"
      ],
      "execution_count": null,
      "outputs": [
        {
          "output_type": "stream",
          "name": "stdout",
          "text": [
            "16/16 [==============================] - 0s 2ms/step - loss: 0.0000e+00 - accuracy: 0.0000e+00\n"
          ]
        }
      ]
    },
    {
      "cell_type": "code",
      "metadata": {
        "colab": {
          "base_uri": "https://localhost:8080/"
        },
        "id": "ETx_Sv7QWBdt",
        "outputId": "e65d4f85-e0fe-4452-cadb-c031e9d70493"
      },
      "source": [
        "print(\"Train: %.3f, Test: %.3f\" % (train_acc, test_acc))"
      ],
      "execution_count": null,
      "outputs": [
        {
          "output_type": "stream",
          "name": "stdout",
          "text": [
            "Train: 0.000, Test: 0.000\n"
          ]
        }
      ]
    },
    {
      "cell_type": "markdown",
      "metadata": {
        "id": "JaNvYCZ_WLRh"
      },
      "source": [
        "**Plot training history**"
      ]
    },
    {
      "cell_type": "code",
      "metadata": {
        "colab": {
          "base_uri": "https://localhost:8080/"
        },
        "id": "rYCdvQKXUy79",
        "outputId": "b4fcfc4f-64cc-4904-ff74-4e6b3b5a93ae"
      },
      "source": [
        "from matplotlib import pyplot as pyplot\n",
        "print(\"Values stored in history are...\\n\", fit_history.history)"
      ],
      "execution_count": null,
      "outputs": [
        {
          "output_type": "stream",
          "name": "stdout",
          "text": [
            "Values stored in history are...\n",
            " {'loss': [0.21524839103221893, 2.2408959132746986e-09, 1.7760318771209427e-09, 1.3350057725958209e-09, 1.048934161751447e-09, 8.462996969882397e-10, 6.555846976397106e-10, 5.483074549950118e-10, 4.410299625501324e-10, 3.8143135872026335e-10], 'accuracy': [0.9901009798049927, 1.0, 1.0, 1.0, 1.0, 1.0, 1.0, 1.0, 1.0, 1.0], 'val_loss': [0.0, 0.0, 0.0, 0.0, 0.0, 0.0, 0.0, 0.0, 0.0, 0.0], 'val_accuracy': [1.0, 1.0, 1.0, 1.0, 1.0, 1.0, 1.0, 1.0, 1.0, 1.0]}\n"
          ]
        }
      ]
    },
    {
      "cell_type": "code",
      "metadata": {
        "colab": {
          "base_uri": "https://localhost:8080/",
          "height": 265
        },
        "id": "PBvd5wYhWJzJ",
        "outputId": "a07007e2-2924-430f-80f6-a954709312e0"
      },
      "source": [
        "plt.plot(fit_history.history['loss'], label='train')\n",
        "plt.plot(fit_history.history['val_loss'], label='test')\n",
        "plt.legend()\n",
        "plt.show()"
      ],
      "execution_count": null,
      "outputs": [
        {
          "output_type": "display_data",
          "data": {
            "image/png": "[encoded data removed]",
            "text/plain": [
              "<Figure size 432x288 with 1 Axes>"
            ]
          },
          "metadata": {
            "needs_background": "light"
          }
        }
      ]
    },
    {
      "cell_type": "code",
      "metadata": {
        "id": "bMu95JsHWJ1g"
      },
      "source": [
        "from keras.models import load_model"
      ],
      "execution_count": null,
      "outputs": []
    },
    {
      "cell_type": "code",
      "metadata": {
        "id": "EJrZROyxUHpH"
      },
      "source": [
        "pretrained_model_2 = load_model('classifier_vgg19_model.h5')"
      ],
      "execution_count": null,
      "outputs": []
    },
    {
      "cell_type": "code",
      "metadata": {
        "id": "ueO5Yij3WS97"
      },
      "source": [
        "steps_per_epoch_test_2 = int(len(X_test)/ 64)"
      ],
      "execution_count": null,
      "outputs": []
    },
    {
      "cell_type": "code",
      "metadata": {
        "colab": {
          "base_uri": "https://localhost:8080/"
        },
        "id": "8UQ958qoWTAZ",
        "outputId": "1f8a0d87-53d1-45f6-cec8-4fe83fe10f38"
      },
      "source": [
        "score_2 = pretrained_model_2.evaluate_generator(X_test, steps=steps_per_epoch_test_2)"
      ],
      "execution_count": null,
      "outputs": [
        {
          "output_type": "stream",
          "name": "stderr",
          "text": [
            "/usr/local/lib/python3.7/dist-packages/keras/engine/training.py:2006: UserWarning: `Model.evaluate_generator` is deprecated and will be removed in a future version. Please use `Model.evaluate`, which supports generators.\n",
            "  warnings.warn('`Model.evaluate_generator` is deprecated and '\n"
          ]
        }
      ]
    },
    {
      "cell_type": "code",
      "metadata": {
        "colab": {
          "base_uri": "https://localhost:8080/"
        },
        "id": "DoNlLf2ZWZ8n",
        "outputId": "7661a268-3d7a-4045-d34a-21b4ed6699ca"
      },
      "source": [
        "print('Accuracy of VGG19: {}% \\n Error: {}'.format(score_2[1], 1 - score_2[1]))"
      ],
      "execution_count": null,
      "outputs": [
        {
          "output_type": "stream",
          "name": "stdout",
          "text": [
            "Accuracy of VGG19: 0.0% \n",
            " Error: 1.0\n"
          ]
        }
      ]
    },
    {
      "cell_type": "code",
      "metadata": {
        "id": "h9IVGQnmWZ_g"
      },
      "source": [
        "import numpy as np"
      ],
      "execution_count": null,
      "outputs": []
    },
    {
      "cell_type": "code",
      "metadata": {
        "colab": {
          "base_uri": "https://localhost:8080/"
        },
        "id": "76rIaXPEWaB4",
        "outputId": "ba994fe7-149b-4e41-9a04-5db8e51b33a2"
      },
      "source": [
        "predict2 = pretrained_model_2.predict_generator(X_test, steps=steps_per_epoch_test_2)"
      ],
      "execution_count": null,
      "outputs": [
        {
          "output_type": "stream",
          "name": "stderr",
          "text": [
            "/usr/local/lib/python3.7/dist-packages/keras/engine/training.py:2035: UserWarning: `Model.predict_generator` is deprecated and will be removed in a future version. Please use `Model.predict`, which supports generators.\n",
            "  warnings.warn('`Model.predict_generator` is deprecated and '\n"
          ]
        }
      ]
    },
    {
      "cell_type": "code",
      "metadata": {
        "id": "cXMScqGkWTCP"
      },
      "source": [
        "class_names= ['0', '1', '2']"
      ],
      "execution_count": null,
      "outputs": []
    },
    {
      "cell_type": "code",
      "metadata": {
        "id": "AQL3srhlWjfr"
      },
      "source": [
        "label2index = {0:0, 1:1, 2:2}"
      ],
      "execution_count": null,
      "outputs": []
    },
    {
      "cell_type": "code",
      "metadata": {
        "colab": {
          "base_uri": "https://localhost:8080/"
        },
        "id": "gGMN1u-cWji_",
        "outputId": "bb0b10c3-6edf-418a-c915-5f4248d1d6c0"
      },
      "source": [
        "list_of_label = list(label2index.keys())\n",
        "print(\"The list of classes: \", list_of_label)"
      ],
      "execution_count": null,
      "outputs": [
        {
          "output_type": "stream",
          "name": "stdout",
          "text": [
            "The list of classes:  [0, 1, 2]\n"
          ]
        }
      ]
    },
    {
      "cell_type": "code",
      "metadata": {
        "colab": {
          "base_uri": "https://localhost:8080/"
        },
        "id": "p2Eh33pbWjlC",
        "outputId": "670830e7-b8f0-4c96-e05c-a5191dd54e40"
      },
      "source": [
        "print(\"VGG19 Predictions :\")\n",
        "for i in range(0, 10):\n",
        "    pred_class = np.argmax(predict2[i])\n",
        "    pred_label = list_of_label[pred_class]\n",
        "    print('Prediction :{}'.format(\n",
        "        pred_label,\n",
        "        predict2[i][pred_class]))\n",
        "    # img = Image.open(predict2[i])\n",
        "    # img.show()"
      ],
      "execution_count": null,
      "outputs": [
        {
          "output_type": "stream",
          "name": "stdout",
          "text": [
            "VGG19 Predictions :\n",
            "Prediction :2\n",
            "Prediction :2\n",
            "Prediction :2\n",
            "Prediction :2\n",
            "Prediction :2\n",
            "Prediction :2\n",
            "Prediction :2\n",
            "Prediction :2\n",
            "Prediction :2\n",
            "Prediction :2\n"
          ]
        }
      ]
    }
  ]
}